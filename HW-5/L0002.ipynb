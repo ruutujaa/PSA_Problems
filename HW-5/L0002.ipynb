{
 "cells": [
  {
   "cell_type": "markdown",
   "metadata": {},
   "source": [
    "## 2. Add Two Numbers\n",
    "## https://leetcode.com/problems/add-two-numbers/\n",
    "## Jagadeesh Vasudevamurthy"
   ]
  },
  {
   "cell_type": "markdown",
   "metadata": {},
   "source": [
    "# Write code below"
   ]
  },
  {
   "cell_type": "code",
   "execution_count": 1,
   "metadata": {},
   "outputs": [],
   "source": [
    "############################################################\n",
    "# L0002.py\n",
    "# Author: Jagadeesh Vasudevamurthy\n",
    "# Copyright: Jagadeesh Vasudevamurthy 2022\n",
    "###########################################################\n",
    "\n",
    "############################################################\n",
    "# https://leetcode.com/problems/add-two-numbers/\n",
    "###########################################################\n",
    "\n",
    "class Solution:\n",
    "    #NOTHING CAN BE CHANGED BELOW\n",
    "    def addTwoNumbers(self, l1: 'ListNode', l2: 'ListNode')->'ListNode':\n",
    "        show = False\n",
    "        assert_answers = True\n",
    "        ans = [None] #List of size 1\n",
    "        h = L0002(l1,l2,ans,assert_answers,show)\n",
    "\n",
    "        return ans[0]\n",
    "\n",
    "class L0002:\n",
    "    def __init__(self, l1: 'ListNode', l2: 'ListNode', ans:'listNode of size 1', assert_answers:'bool',show:'bool') -> None:\n",
    "        #NOTHING CAN BE CHANGED BELOW\n",
    "        self._a = Slist()\n",
    "        self._a._first = l1\n",
    "        self._b = Slist()\n",
    "        self._b._first = l2\n",
    "        self._ans = ans\n",
    "        self._alg()\n",
    "        \n",
    "    def _alg(self):\n",
    "        c = self._a + self._b\n",
    "        self._ans[0] = c._first\n",
    "\n",
    "\n",
    "class Slist():\n",
    "    def __init__(self):\n",
    "        #NOTHING CAN BE CHANGED HERE\n",
    "        self._first = None\n",
    "        self._last = None\n",
    "\n",
    "    def __add__(self, other):\n",
    "        result = Slist()\n",
    "        carry = 0\n",
    "        p = self._first\n",
    "        q = other._first\n",
    "\n",
    "        while p or q:\n",
    "            x = p._data if p else 0\n",
    "            y = q._data if q else 0\n",
    "\n",
    "            sum = x + y + carry\n",
    "            carry = sum // 10\n",
    "            digit = sum % 10\n",
    "\n",
    "            result._append(digit)\n",
    "\n",
    "            if p:\n",
    "                p = p._next\n",
    "            if q:\n",
    "                q = q._next\n",
    "\n",
    "        if carry > 0:\n",
    "            result._append(carry)\n",
    "\n",
    "        return result\n",
    "\n",
    "    def _append(self, data):\n",
    "        new_node = Node(data)\n",
    "\n",
    "        if not self._first:\n",
    "            self._first = new_node\n",
    "            self._last = new_node\n",
    "        else:\n",
    "            self._last._next = new_node\n",
    "            self._last = new_node\n"
   ]
  },
  {
   "cell_type": "markdown",
   "metadata": {},
   "source": [
    "##  NO test bench. Use Slist object to learn"
   ]
  },
  {
   "cell_type": "code",
   "execution_count": null,
   "metadata": {},
   "outputs": [],
   "source": []
  }
 ],
 "metadata": {
  "kernelspec": {
   "display_name": "Python 3 (ipykernel)",
   "language": "python",
   "name": "python3"
  },
  "language_info": {
   "codemirror_mode": {
    "name": "ipython",
    "version": 3
   },
   "file_extension": ".py",
   "mimetype": "text/x-python",
   "name": "python",
   "nbconvert_exporter": "python",
   "pygments_lexer": "ipython3",
   "version": "3.10.9"
  }
 },
 "nbformat": 4,
 "nbformat_minor": 4
}
